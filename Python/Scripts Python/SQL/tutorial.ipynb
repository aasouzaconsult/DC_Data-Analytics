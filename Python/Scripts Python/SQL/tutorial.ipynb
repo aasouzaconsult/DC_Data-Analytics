{
 "cells": [
  {
   "cell_type": "markdown",
   "metadata": {},
   "source": [
    "# Criando SQL via Jupyter Notebook"
   ]
  },
  {
   "cell_type": "markdown",
   "metadata": {},
   "source": [
    "## Instalando as bibliotecas"
   ]
  },
  {
   "cell_type": "code",
   "execution_count": 1,
   "metadata": {
    "scrolled": true
   },
   "outputs": [
    {
     "name": "stdout",
     "output_type": "stream",
     "text": [
      "Collecting sql\n",
      "  Downloading sql-2022.4.0.tar.gz (4.2 kB)\n",
      "  Preparing metadata (setup.py): started\n",
      "  Preparing metadata (setup.py): finished with status 'done'\n",
      "Building wheels for collected packages: sql\n",
      "  Building wheel for sql (setup.py): started\n",
      "  Building wheel for sql (setup.py): finished with status 'done'\n",
      "  Created wheel for sql: filename=sql-2022.4.0-py3-none-any.whl size=4335 sha256=f8fa7b8cceb80ca0b5049450972022e2db7f5caa4e076e6e675f49b7539acd12\n",
      "  Stored in directory: c:\\users\\alex.souza\\appdata\\local\\pip\\cache\\wheels\\0c\\cc\\61\\62312debc4afba962f05a759a3215104f54cedf22495b4059d\n",
      "Successfully built sql\n",
      "Installing collected packages: sql\n",
      "Successfully installed sql-2022.4.0\n",
      "Note: you may need to restart the kernel to use updated packages.\n"
     ]
    }
   ],
   "source": [
    "pip install sql"
   ]
  },
  {
   "cell_type": "code",
   "execution_count": 2,
   "metadata": {},
   "outputs": [
    {
     "name": "stdout",
     "output_type": "stream",
     "text": [
      "Collecting ipython-sql\n",
      "  Using cached ipython_sql-0.5.0-py3-none-any.whl (20 kB)\n",
      "Collecting sqlalchemy>=2.0\n",
      "  Downloading SQLAlchemy-2.0.19-cp310-cp310-win_amd64.whl (2.0 MB)\n",
      "     ---------------------------------------- 2.0/2.0 MB 14.0 MB/s eta 0:00:00\n",
      "Requirement already satisfied: ipython in c:\\users\\alex.souza\\appdata\\local\\anaconda3\\lib\\site-packages (from ipython-sql) (8.10.0)\n",
      "Requirement already satisfied: six in c:\\users\\alex.souza\\appdata\\local\\anaconda3\\lib\\site-packages (from ipython-sql) (1.16.0)\n",
      "Collecting sqlparse\n",
      "  Downloading sqlparse-0.4.4-py3-none-any.whl (41 kB)\n",
      "     ---------------------------------------- 41.2/41.2 kB ? eta 0:00:00\n",
      "Collecting prettytable\n",
      "  Downloading prettytable-3.8.0-py3-none-any.whl (27 kB)\n",
      "Requirement already satisfied: ipython-genutils in c:\\users\\alex.souza\\appdata\\local\\anaconda3\\lib\\site-packages (from ipython-sql) (0.2.0)\n",
      "Requirement already satisfied: typing-extensions>=4.2.0 in c:\\users\\alex.souza\\appdata\\local\\anaconda3\\lib\\site-packages (from sqlalchemy>=2.0->ipython-sql) (4.4.0)\n",
      "Requirement already satisfied: greenlet!=0.4.17 in c:\\users\\alex.souza\\appdata\\local\\anaconda3\\lib\\site-packages (from sqlalchemy>=2.0->ipython-sql) (2.0.1)\n",
      "Requirement already satisfied: traitlets>=5 in c:\\users\\alex.souza\\appdata\\local\\anaconda3\\lib\\site-packages (from ipython->ipython-sql) (5.7.1)\n",
      "Requirement already satisfied: prompt-toolkit<3.1.0,>=3.0.30 in c:\\users\\alex.souza\\appdata\\local\\anaconda3\\lib\\site-packages (from ipython->ipython-sql) (3.0.36)\n",
      "Requirement already satisfied: stack-data in c:\\users\\alex.souza\\appdata\\local\\anaconda3\\lib\\site-packages (from ipython->ipython-sql) (0.2.0)\n",
      "Requirement already satisfied: colorama in c:\\users\\alex.souza\\appdata\\local\\anaconda3\\lib\\site-packages (from ipython->ipython-sql) (0.4.6)\n",
      "Requirement already satisfied: pickleshare in c:\\users\\alex.souza\\appdata\\local\\anaconda3\\lib\\site-packages (from ipython->ipython-sql) (0.7.5)\n",
      "Requirement already satisfied: pygments>=2.4.0 in c:\\users\\alex.souza\\appdata\\local\\anaconda3\\lib\\site-packages (from ipython->ipython-sql) (2.11.2)\n",
      "Requirement already satisfied: jedi>=0.16 in c:\\users\\alex.souza\\appdata\\local\\anaconda3\\lib\\site-packages (from ipython->ipython-sql) (0.18.1)\n",
      "Requirement already satisfied: matplotlib-inline in c:\\users\\alex.souza\\appdata\\local\\anaconda3\\lib\\site-packages (from ipython->ipython-sql) (0.1.6)\n",
      "Requirement already satisfied: decorator in c:\\users\\alex.souza\\appdata\\local\\anaconda3\\lib\\site-packages (from ipython->ipython-sql) (5.1.1)\n",
      "Requirement already satisfied: backcall in c:\\users\\alex.souza\\appdata\\local\\anaconda3\\lib\\site-packages (from ipython->ipython-sql) (0.2.0)\n",
      "Requirement already satisfied: wcwidth in c:\\users\\alex.souza\\appdata\\local\\anaconda3\\lib\\site-packages (from prettytable->ipython-sql) (0.2.5)\n",
      "Requirement already satisfied: parso<0.9.0,>=0.8.0 in c:\\users\\alex.souza\\appdata\\local\\anaconda3\\lib\\site-packages (from jedi>=0.16->ipython->ipython-sql) (0.8.3)\n",
      "Requirement already satisfied: executing in c:\\users\\alex.souza\\appdata\\local\\anaconda3\\lib\\site-packages (from stack-data->ipython->ipython-sql) (0.8.3)\n",
      "Requirement already satisfied: pure-eval in c:\\users\\alex.souza\\appdata\\local\\anaconda3\\lib\\site-packages (from stack-data->ipython->ipython-sql) (0.2.2)\n",
      "Requirement already satisfied: asttokens in c:\\users\\alex.souza\\appdata\\local\\anaconda3\\lib\\site-packages (from stack-data->ipython->ipython-sql) (2.0.5)\n",
      "Installing collected packages: sqlparse, sqlalchemy, prettytable, ipython-sql\n",
      "  Attempting uninstall: sqlalchemy\n",
      "    Found existing installation: SQLAlchemy 1.4.39\n",
      "    Uninstalling SQLAlchemy-1.4.39:\n",
      "      Successfully uninstalled SQLAlchemy-1.4.39\n",
      "Successfully installed ipython-sql-0.5.0 prettytable-3.8.0 sqlalchemy-2.0.19 sqlparse-0.4.4\n",
      "Note: you may need to restart the kernel to use updated packages.\n"
     ]
    }
   ],
   "source": [
    "pip install ipython-sql"
   ]
  },
  {
   "cell_type": "markdown",
   "metadata": {},
   "source": [
    "## Carregando a extensão SQL"
   ]
  },
  {
   "cell_type": "code",
   "execution_count": 3,
   "metadata": {},
   "outputs": [],
   "source": [
    "# Carrega a extensão sql, utilizada para estabelecer a conexão com o banco de dados que iremos criar\n",
    "%load_ext sql"
   ]
  },
  {
   "cell_type": "markdown",
   "metadata": {},
   "source": [
    "## Criando ou conectando um banco de dados existente (SQLite)"
   ]
  },
  {
   "cell_type": "code",
   "execution_count": 4,
   "metadata": {},
   "outputs": [],
   "source": [
    "# Estabelece conexão com o banco de dados (cria o banco de dados caso ele não exista)\n",
    "\n",
    "%sql sqlite:///zouzadb.db"
   ]
  },
  {
   "cell_type": "markdown",
   "metadata": {},
   "source": [
    "## Criando tabelas"
   ]
  },
  {
   "cell_type": "code",
   "execution_count": 61,
   "metadata": {},
   "outputs": [
    {
     "name": "stdout",
     "output_type": "stream",
     "text": [
      " * sqlite:///mydb1.db\n",
      "Done.\n",
      "Done.\n"
     ]
    },
    {
     "data": {
      "text/plain": [
       "[]"
      ]
     },
     "execution_count": 61,
     "metadata": {},
     "output_type": "execute_result"
    }
   ],
   "source": [
    "%%sql\n",
    "\n",
    "-- Criação da tabela clientes\n",
    "CREATE TABLE clientes (\n",
    "    id_cliente INTEGER PRIMARY KEY,\n",
    "    nome VARCHAR(100),\n",
    "    email VARCHAR(150),\n",
    "    telefone VARCHAR(15),\n",
    "    data_nascimento DATE\n",
    ");\n",
    "\n",
    "-- Criação da tabela compras\n",
    "CREATE TABLE compras (\n",
    "    id_compra INTEGER PRIMARY KEY,\n",
    "    id_cliente INTEGER,\n",
    "    produto VARCHAR(100),\n",
    "    valor NUMERIC(10, 2),\n",
    "    data_compra DATE,\n",
    "    CONSTRAINT FK_id_cli FOREIGN KEY (id_cliente) REFERENCES cliente (id_cliente)\n",
    ");"
   ]
  },
  {
   "cell_type": "markdown",
   "metadata": {},
   "source": [
    "## Inserindo dados"
   ]
  },
  {
   "cell_type": "code",
   "execution_count": 62,
   "metadata": {},
   "outputs": [
    {
     "name": "stdout",
     "output_type": "stream",
     "text": [
      " * sqlite:///mydb1.db\n",
      "6 rows affected.\n"
     ]
    },
    {
     "data": {
      "text/plain": [
       "[]"
      ]
     },
     "execution_count": 62,
     "metadata": {},
     "output_type": "execute_result"
    }
   ],
   "source": [
    "%%sql\n",
    "-- Inserção de registros de exemplo na tabela clientes\n",
    "\n",
    "INSERT INTO clientes (id_cliente, nome, email, telefone, data_nascimento) VALUES\n",
    "    (1, 'Maria Silva', 'maria@email.com', '(11) 99999-1111', '1990-05-15'),\n",
    "    (2, 'João Santos', 'joao@email.com', '(21) 98888-2222', '1985-09-20'),\n",
    "    (3, 'Lídia', 'lid@gmail.com', '(85) 98888-8888','15/08/1995'),\n",
    "    (4, 'Antonio', 'antonio@gmail.com', '(85) 97777-7777','03/11/1998'),\n",
    "    (5, 'Alex Souza', 'aasouzaconsult@gmail.com', '(85) 96666-6666','13/09/1985'),\n",
    "    (6, 'Maria João', 'mariaj@email.com', '(11) 99999-1111', '1990-05-15');"
   ]
  },
  {
   "cell_type": "code",
   "execution_count": 63,
   "metadata": {},
   "outputs": [
    {
     "name": "stdout",
     "output_type": "stream",
     "text": [
      " * sqlite:///mydb1.db\n",
      "10 rows affected.\n"
     ]
    },
    {
     "data": {
      "text/plain": [
       "[]"
      ]
     },
     "execution_count": 63,
     "metadata": {},
     "output_type": "execute_result"
    }
   ],
   "source": [
    "%%sql\n",
    "-- Inserção de registros de exemplo na tabela compras\n",
    "\n",
    "INSERT INTO compras (id_compra, id_cliente, produto, valor, data_compra) VALUES\n",
    "    (1, 1, 'Celular', 1500.00, '2023-07-15'),\n",
    "    (2, 1, 'Notebook', 3500.00, '2023-07-18'),\n",
    "    (3, 2, 'Mochila', 400.00, '2022-07-20'),\n",
    "    (4, 2, 'Mouse LG', 100.00, '2022-03-21'),\n",
    "    (5, 3, 'Pendrive 128Mb', 100.00, '2021-04-23'),\n",
    "    (6, 2, 'Cadeira Gamer', 1500.00, '2023-05-20'),\n",
    "    (7, 3, 'Cartucho Mega Drive', 1000.00, '2022-07-21'),\n",
    "    (8, 4, 'Relógio Barbie', 2000.00, '2023-03-20'),\n",
    "    (9, 2, 'Mouse Pad', 50.00, '2020-04-02'),\n",
    "    (10, 5, 'Cabo USB', 300.00, '2021-05-05');"
   ]
  },
  {
   "cell_type": "markdown",
   "metadata": {},
   "source": [
    "## Consultando dados"
   ]
  },
  {
   "cell_type": "code",
   "execution_count": 64,
   "metadata": {},
   "outputs": [
    {
     "name": "stdout",
     "output_type": "stream",
     "text": [
      " * sqlite:///mydb1.db\n",
      "Done.\n"
     ]
    },
    {
     "data": {
      "text/html": [
       "<table>\n",
       "    <thead>\n",
       "        <tr>\n",
       "            <th>id_cliente</th>\n",
       "            <th>nome</th>\n",
       "            <th>email</th>\n",
       "            <th>telefone</th>\n",
       "            <th>data_nascimento</th>\n",
       "        </tr>\n",
       "    </thead>\n",
       "    <tbody>\n",
       "        <tr>\n",
       "            <td>1</td>\n",
       "            <td>Maria Silva</td>\n",
       "            <td>maria@email.com</td>\n",
       "            <td>(11) 99999-1111</td>\n",
       "            <td>1990-05-15</td>\n",
       "        </tr>\n",
       "        <tr>\n",
       "            <td>2</td>\n",
       "            <td>João Santos</td>\n",
       "            <td>joao@email.com</td>\n",
       "            <td>(21) 98888-2222</td>\n",
       "            <td>1985-09-20</td>\n",
       "        </tr>\n",
       "        <tr>\n",
       "            <td>3</td>\n",
       "            <td>Lídia</td>\n",
       "            <td>lid@gmail.com</td>\n",
       "            <td>(85) 98888-8888</td>\n",
       "            <td>15/08/1995</td>\n",
       "        </tr>\n",
       "        <tr>\n",
       "            <td>4</td>\n",
       "            <td>Antonio</td>\n",
       "            <td>antonio@gmail.com</td>\n",
       "            <td>(85) 97777-7777</td>\n",
       "            <td>03/11/1998</td>\n",
       "        </tr>\n",
       "        <tr>\n",
       "            <td>5</td>\n",
       "            <td>Alex Souza</td>\n",
       "            <td>aasouzaconsult@gmail.com</td>\n",
       "            <td>(85) 96666-6666</td>\n",
       "            <td>13/09/1985</td>\n",
       "        </tr>\n",
       "        <tr>\n",
       "            <td>6</td>\n",
       "            <td>Maria João</td>\n",
       "            <td>mariaj@email.com</td>\n",
       "            <td>(11) 99999-1111</td>\n",
       "            <td>1990-05-15</td>\n",
       "        </tr>\n",
       "    </tbody>\n",
       "</table>"
      ],
      "text/plain": [
       "[(1, 'Maria Silva', 'maria@email.com', '(11) 99999-1111', '1990-05-15'),\n",
       " (2, 'João Santos', 'joao@email.com', '(21) 98888-2222', '1985-09-20'),\n",
       " (3, 'Lídia', 'lid@gmail.com', '(85) 98888-8888', '15/08/1995'),\n",
       " (4, 'Antonio', 'antonio@gmail.com', '(85) 97777-7777', '03/11/1998'),\n",
       " (5, 'Alex Souza', 'aasouzaconsult@gmail.com', '(85) 96666-6666', '13/09/1985'),\n",
       " (6, 'Maria João', 'mariaj@email.com', '(11) 99999-1111', '1990-05-15')]"
      ]
     },
     "execution_count": 64,
     "metadata": {},
     "output_type": "execute_result"
    }
   ],
   "source": [
    "%%sql\n",
    "\n",
    "select * from clientes;"
   ]
  },
  {
   "cell_type": "code",
   "execution_count": 37,
   "metadata": {},
   "outputs": [
    {
     "name": "stdout",
     "output_type": "stream",
     "text": [
      " * sqlite:///mydb1.db\n",
      "Done.\n"
     ]
    },
    {
     "data": {
      "text/html": [
       "<table>\n",
       "    <thead>\n",
       "        <tr>\n",
       "            <th>id_compra</th>\n",
       "            <th>id_cliente</th>\n",
       "            <th>produto</th>\n",
       "            <th>valor</th>\n",
       "            <th>data_compra</th>\n",
       "        </tr>\n",
       "    </thead>\n",
       "    <tbody>\n",
       "        <tr>\n",
       "            <td>1</td>\n",
       "            <td>1</td>\n",
       "            <td>Celular</td>\n",
       "            <td>1500</td>\n",
       "            <td>2023-07-15</td>\n",
       "        </tr>\n",
       "        <tr>\n",
       "            <td>2</td>\n",
       "            <td>1</td>\n",
       "            <td>Notebook</td>\n",
       "            <td>3500</td>\n",
       "            <td>2023-07-18</td>\n",
       "        </tr>\n",
       "        <tr>\n",
       "            <td>3</td>\n",
       "            <td>2</td>\n",
       "            <td>Mochila</td>\n",
       "            <td>400</td>\n",
       "            <td>2022-07-20</td>\n",
       "        </tr>\n",
       "        <tr>\n",
       "            <td>4</td>\n",
       "            <td>2</td>\n",
       "            <td>Mouse LG</td>\n",
       "            <td>100</td>\n",
       "            <td>2022-03-21</td>\n",
       "        </tr>\n",
       "        <tr>\n",
       "            <td>5</td>\n",
       "            <td>3</td>\n",
       "            <td>Pendrive 128Mb</td>\n",
       "            <td>100</td>\n",
       "            <td>2021-04-23</td>\n",
       "        </tr>\n",
       "        <tr>\n",
       "            <td>6</td>\n",
       "            <td>2</td>\n",
       "            <td>Cadeira Gamer</td>\n",
       "            <td>1500</td>\n",
       "            <td>2023-05-20</td>\n",
       "        </tr>\n",
       "        <tr>\n",
       "            <td>7</td>\n",
       "            <td>3</td>\n",
       "            <td>Cartucho Mega Drive</td>\n",
       "            <td>1000</td>\n",
       "            <td>2022-07-21</td>\n",
       "        </tr>\n",
       "        <tr>\n",
       "            <td>8</td>\n",
       "            <td>4</td>\n",
       "            <td>Relógio Barbie</td>\n",
       "            <td>2000</td>\n",
       "            <td>2023-03-20</td>\n",
       "        </tr>\n",
       "        <tr>\n",
       "            <td>9</td>\n",
       "            <td>2</td>\n",
       "            <td>Mouse Pad</td>\n",
       "            <td>50</td>\n",
       "            <td>2020-04-02</td>\n",
       "        </tr>\n",
       "        <tr>\n",
       "            <td>10</td>\n",
       "            <td>5</td>\n",
       "            <td>Cabo USB</td>\n",
       "            <td>300</td>\n",
       "            <td>2021-05-05</td>\n",
       "        </tr>\n",
       "    </tbody>\n",
       "</table>"
      ],
      "text/plain": [
       "[(1, 1, 'Celular', 1500, '2023-07-15'),\n",
       " (2, 1, 'Notebook', 3500, '2023-07-18'),\n",
       " (3, 2, 'Mochila', 400, '2022-07-20'),\n",
       " (4, 2, 'Mouse LG', 100, '2022-03-21'),\n",
       " (5, 3, 'Pendrive 128Mb', 100, '2021-04-23'),\n",
       " (6, 2, 'Cadeira Gamer', 1500, '2023-05-20'),\n",
       " (7, 3, 'Cartucho Mega Drive', 1000, '2022-07-21'),\n",
       " (8, 4, 'Relógio Barbie', 2000, '2023-03-20'),\n",
       " (9, 2, 'Mouse Pad', 50, '2020-04-02'),\n",
       " (10, 5, 'Cabo USB', 300, '2021-05-05')]"
      ]
     },
     "execution_count": 37,
     "metadata": {},
     "output_type": "execute_result"
    }
   ],
   "source": [
    "%%sql\n",
    "\n",
    "select * from compras;"
   ]
  },
  {
   "cell_type": "code",
   "execution_count": 38,
   "metadata": {},
   "outputs": [
    {
     "name": "stdout",
     "output_type": "stream",
     "text": [
      " * sqlite:///mydb1.db\n",
      "Done.\n"
     ]
    },
    {
     "data": {
      "text/html": [
       "<table>\n",
       "    <thead>\n",
       "        <tr>\n",
       "            <th>id_cliente</th>\n",
       "            <th>valor_total</th>\n",
       "        </tr>\n",
       "    </thead>\n",
       "    <tbody>\n",
       "        <tr>\n",
       "            <td>1</td>\n",
       "            <td>5000</td>\n",
       "        </tr>\n",
       "        <tr>\n",
       "            <td>2</td>\n",
       "            <td>2050</td>\n",
       "        </tr>\n",
       "        <tr>\n",
       "            <td>3</td>\n",
       "            <td>1100</td>\n",
       "        </tr>\n",
       "        <tr>\n",
       "            <td>4</td>\n",
       "            <td>2000</td>\n",
       "        </tr>\n",
       "        <tr>\n",
       "            <td>5</td>\n",
       "            <td>300</td>\n",
       "        </tr>\n",
       "    </tbody>\n",
       "</table>"
      ],
      "text/plain": [
       "[(1, 5000), (2, 2050), (3, 1100), (4, 2000), (5, 300)]"
      ]
     },
     "execution_count": 38,
     "metadata": {},
     "output_type": "execute_result"
    }
   ],
   "source": [
    "%%sql\n",
    "\n",
    "-- valor total gasto por cliente\n",
    "SELECT id_cliente\n",
    "     , sum(valor) as valor_total \n",
    "  FROM compras\n",
    " GROUP BY id_cliente;"
   ]
  },
  {
   "cell_type": "code",
   "execution_count": 39,
   "metadata": {},
   "outputs": [
    {
     "name": "stdout",
     "output_type": "stream",
     "text": [
      " * sqlite:///mydb1.db\n",
      "Done.\n"
     ]
    },
    {
     "data": {
      "text/html": [
       "<table>\n",
       "    <thead>\n",
       "        <tr>\n",
       "            <th>id_cliente</th>\n",
       "            <th>produto</th>\n",
       "            <th>valor_total</th>\n",
       "        </tr>\n",
       "    </thead>\n",
       "    <tbody>\n",
       "        <tr>\n",
       "            <td>1</td>\n",
       "            <td>Celular</td>\n",
       "            <td>1500</td>\n",
       "        </tr>\n",
       "        <tr>\n",
       "            <td>1</td>\n",
       "            <td>Notebook</td>\n",
       "            <td>3500</td>\n",
       "        </tr>\n",
       "        <tr>\n",
       "            <td>2</td>\n",
       "            <td>Cadeira Gamer</td>\n",
       "            <td>1500</td>\n",
       "        </tr>\n",
       "        <tr>\n",
       "            <td>2</td>\n",
       "            <td>Mochila</td>\n",
       "            <td>400</td>\n",
       "        </tr>\n",
       "        <tr>\n",
       "            <td>2</td>\n",
       "            <td>Mouse LG</td>\n",
       "            <td>100</td>\n",
       "        </tr>\n",
       "        <tr>\n",
       "            <td>2</td>\n",
       "            <td>Mouse Pad</td>\n",
       "            <td>50</td>\n",
       "        </tr>\n",
       "        <tr>\n",
       "            <td>3</td>\n",
       "            <td>Cartucho Mega Drive</td>\n",
       "            <td>1000</td>\n",
       "        </tr>\n",
       "        <tr>\n",
       "            <td>3</td>\n",
       "            <td>Pendrive 128Mb</td>\n",
       "            <td>100</td>\n",
       "        </tr>\n",
       "        <tr>\n",
       "            <td>4</td>\n",
       "            <td>Relógio Barbie</td>\n",
       "            <td>2000</td>\n",
       "        </tr>\n",
       "        <tr>\n",
       "            <td>5</td>\n",
       "            <td>Cabo USB</td>\n",
       "            <td>300</td>\n",
       "        </tr>\n",
       "    </tbody>\n",
       "</table>"
      ],
      "text/plain": [
       "[(1, 'Celular', 1500),\n",
       " (1, 'Notebook', 3500),\n",
       " (2, 'Cadeira Gamer', 1500),\n",
       " (2, 'Mochila', 400),\n",
       " (2, 'Mouse LG', 100),\n",
       " (2, 'Mouse Pad', 50),\n",
       " (3, 'Cartucho Mega Drive', 1000),\n",
       " (3, 'Pendrive 128Mb', 100),\n",
       " (4, 'Relógio Barbie', 2000),\n",
       " (5, 'Cabo USB', 300)]"
      ]
     },
     "execution_count": 39,
     "metadata": {},
     "output_type": "execute_result"
    }
   ],
   "source": [
    "%%sql\n",
    "\n",
    "-- valor total gasto por cliente e por produto\n",
    "SELECT id_cliente\n",
    "     , produto\n",
    "     , sum(valor) as valor_total \n",
    "  FROM compras\n",
    " GROUP BY id_cliente, produto\n",
    " ORDER BY id_cliente ASC;"
   ]
  },
  {
   "cell_type": "code",
   "execution_count": 41,
   "metadata": {},
   "outputs": [
    {
     "name": "stdout",
     "output_type": "stream",
     "text": [
      " * sqlite:///mydb1.db\n",
      "Done.\n"
     ]
    },
    {
     "data": {
      "text/html": [
       "<table>\n",
       "    <thead>\n",
       "        <tr>\n",
       "            <th>nome</th>\n",
       "            <th>produto</th>\n",
       "            <th>valor_total</th>\n",
       "        </tr>\n",
       "    </thead>\n",
       "    <tbody>\n",
       "        <tr>\n",
       "            <td>Maria Silva</td>\n",
       "            <td>Celular</td>\n",
       "            <td>1500</td>\n",
       "        </tr>\n",
       "        <tr>\n",
       "            <td>Maria Silva</td>\n",
       "            <td>Notebook</td>\n",
       "            <td>3500</td>\n",
       "        </tr>\n",
       "        <tr>\n",
       "            <td>João Santos</td>\n",
       "            <td>Cadeira Gamer</td>\n",
       "            <td>1500</td>\n",
       "        </tr>\n",
       "        <tr>\n",
       "            <td>João Santos</td>\n",
       "            <td>Mochila</td>\n",
       "            <td>400</td>\n",
       "        </tr>\n",
       "        <tr>\n",
       "            <td>João Santos</td>\n",
       "            <td>Mouse LG</td>\n",
       "            <td>100</td>\n",
       "        </tr>\n",
       "        <tr>\n",
       "            <td>João Santos</td>\n",
       "            <td>Mouse Pad</td>\n",
       "            <td>50</td>\n",
       "        </tr>\n",
       "        <tr>\n",
       "            <td>Lídia</td>\n",
       "            <td>Cartucho Mega Drive</td>\n",
       "            <td>1000</td>\n",
       "        </tr>\n",
       "        <tr>\n",
       "            <td>Lídia</td>\n",
       "            <td>Pendrive 128Mb</td>\n",
       "            <td>100</td>\n",
       "        </tr>\n",
       "        <tr>\n",
       "            <td>Antonio</td>\n",
       "            <td>Relógio Barbie</td>\n",
       "            <td>2000</td>\n",
       "        </tr>\n",
       "        <tr>\n",
       "            <td>Alex Souza</td>\n",
       "            <td>Cabo USB</td>\n",
       "            <td>300</td>\n",
       "        </tr>\n",
       "    </tbody>\n",
       "</table>"
      ],
      "text/plain": [
       "[('Maria Silva', 'Celular', 1500),\n",
       " ('Maria Silva', 'Notebook', 3500),\n",
       " ('João Santos', 'Cadeira Gamer', 1500),\n",
       " ('João Santos', 'Mochila', 400),\n",
       " ('João Santos', 'Mouse LG', 100),\n",
       " ('João Santos', 'Mouse Pad', 50),\n",
       " ('Lídia', 'Cartucho Mega Drive', 1000),\n",
       " ('Lídia', 'Pendrive 128Mb', 100),\n",
       " ('Antonio', 'Relógio Barbie', 2000),\n",
       " ('Alex Souza', 'Cabo USB', 300)]"
      ]
     },
     "execution_count": 41,
     "metadata": {},
     "output_type": "execute_result"
    }
   ],
   "source": [
    "%%sql\n",
    "\n",
    "-- valor total gasto por cliente (nome) e por produto\n",
    "SELECT clientes.nome\n",
    "     , compras.produto\n",
    "     , sum(compras.valor) as valor_total \n",
    "  FROM compras  \n",
    "  JOIN clientes on clientes.id_cliente = compras.id_cliente\n",
    " GROUP BY clientes.nome, compras.produto\n",
    " ORDER BY clientes.id_cliente ASC;"
   ]
  },
  {
   "cell_type": "code",
   "execution_count": 42,
   "metadata": {},
   "outputs": [
    {
     "name": "stdout",
     "output_type": "stream",
     "text": [
      " * sqlite:///mydb1.db\n",
      "Done.\n"
     ]
    },
    {
     "data": {
      "text/plain": [
       "[]"
      ]
     },
     "execution_count": 42,
     "metadata": {},
     "output_type": "execute_result"
    }
   ],
   "source": [
    "%%sql\n",
    "\n",
    "-- valor total gasto por cliente (nome) e por produto (Criar uma Visão)\n",
    "\n",
    "create view vw_valortotalproduto as\n",
    "SELECT clientes.nome\n",
    "     , compras.produto\n",
    "     , sum(compras.valor) as valor_total \n",
    "  FROM compras  \n",
    "  JOIN clientes on clientes.id_cliente = compras.id_cliente\n",
    " GROUP BY clientes.nome, compras.produto\n",
    " ORDER BY clientes.id_cliente ASC;"
   ]
  },
  {
   "cell_type": "code",
   "execution_count": 43,
   "metadata": {},
   "outputs": [
    {
     "name": "stdout",
     "output_type": "stream",
     "text": [
      " * sqlite:///mydb1.db\n",
      "Done.\n"
     ]
    },
    {
     "data": {
      "text/html": [
       "<table>\n",
       "    <thead>\n",
       "        <tr>\n",
       "            <th>nome</th>\n",
       "            <th>produto</th>\n",
       "            <th>valor_total</th>\n",
       "        </tr>\n",
       "    </thead>\n",
       "    <tbody>\n",
       "        <tr>\n",
       "            <td>Maria Silva</td>\n",
       "            <td>Celular</td>\n",
       "            <td>1500</td>\n",
       "        </tr>\n",
       "        <tr>\n",
       "            <td>Maria Silva</td>\n",
       "            <td>Notebook</td>\n",
       "            <td>3500</td>\n",
       "        </tr>\n",
       "        <tr>\n",
       "            <td>João Santos</td>\n",
       "            <td>Cadeira Gamer</td>\n",
       "            <td>1500</td>\n",
       "        </tr>\n",
       "        <tr>\n",
       "            <td>João Santos</td>\n",
       "            <td>Mochila</td>\n",
       "            <td>400</td>\n",
       "        </tr>\n",
       "        <tr>\n",
       "            <td>João Santos</td>\n",
       "            <td>Mouse LG</td>\n",
       "            <td>100</td>\n",
       "        </tr>\n",
       "        <tr>\n",
       "            <td>João Santos</td>\n",
       "            <td>Mouse Pad</td>\n",
       "            <td>50</td>\n",
       "        </tr>\n",
       "        <tr>\n",
       "            <td>Lídia</td>\n",
       "            <td>Cartucho Mega Drive</td>\n",
       "            <td>1000</td>\n",
       "        </tr>\n",
       "        <tr>\n",
       "            <td>Lídia</td>\n",
       "            <td>Pendrive 128Mb</td>\n",
       "            <td>100</td>\n",
       "        </tr>\n",
       "        <tr>\n",
       "            <td>Antonio</td>\n",
       "            <td>Relógio Barbie</td>\n",
       "            <td>2000</td>\n",
       "        </tr>\n",
       "        <tr>\n",
       "            <td>Alex Souza</td>\n",
       "            <td>Cabo USB</td>\n",
       "            <td>300</td>\n",
       "        </tr>\n",
       "    </tbody>\n",
       "</table>"
      ],
      "text/plain": [
       "[('Maria Silva', 'Celular', 1500),\n",
       " ('Maria Silva', 'Notebook', 3500),\n",
       " ('João Santos', 'Cadeira Gamer', 1500),\n",
       " ('João Santos', 'Mochila', 400),\n",
       " ('João Santos', 'Mouse LG', 100),\n",
       " ('João Santos', 'Mouse Pad', 50),\n",
       " ('Lídia', 'Cartucho Mega Drive', 1000),\n",
       " ('Lídia', 'Pendrive 128Mb', 100),\n",
       " ('Antonio', 'Relógio Barbie', 2000),\n",
       " ('Alex Souza', 'Cabo USB', 300)]"
      ]
     },
     "execution_count": 43,
     "metadata": {},
     "output_type": "execute_result"
    }
   ],
   "source": [
    "%%sql\n",
    "\n",
    "select * from vw_valortotalproduto;"
   ]
  },
  {
   "cell_type": "code",
   "execution_count": 47,
   "metadata": {},
   "outputs": [
    {
     "name": "stdout",
     "output_type": "stream",
     "text": [
      " * sqlite:///mydb1.db\n",
      "Done.\n"
     ]
    },
    {
     "data": {
      "text/html": [
       "<table>\n",
       "    <thead>\n",
       "        <tr>\n",
       "            <th>nome</th>\n",
       "            <th>produto</th>\n",
       "            <th>valor_total</th>\n",
       "        </tr>\n",
       "    </thead>\n",
       "    <tbody>\n",
       "        <tr>\n",
       "            <td>Alex Souza</td>\n",
       "            <td>Cabo USB</td>\n",
       "            <td>300</td>\n",
       "        </tr>\n",
       "        <tr>\n",
       "            <td>Antonio</td>\n",
       "            <td>Relógio Barbie</td>\n",
       "            <td>2000</td>\n",
       "        </tr>\n",
       "        <tr>\n",
       "            <td>João Santos</td>\n",
       "            <td>Cadeira Gamer</td>\n",
       "            <td>1500</td>\n",
       "        </tr>\n",
       "        <tr>\n",
       "            <td>João Santos</td>\n",
       "            <td>Mochila</td>\n",
       "            <td>400</td>\n",
       "        </tr>\n",
       "        <tr>\n",
       "            <td>João Santos</td>\n",
       "            <td>Mouse LG</td>\n",
       "            <td>100</td>\n",
       "        </tr>\n",
       "        <tr>\n",
       "            <td>João Santos</td>\n",
       "            <td>Mouse Pad</td>\n",
       "            <td>50</td>\n",
       "        </tr>\n",
       "        <tr>\n",
       "            <td>Lídia</td>\n",
       "            <td>Cartucho Mega Drive</td>\n",
       "            <td>1000</td>\n",
       "        </tr>\n",
       "        <tr>\n",
       "            <td>Lídia</td>\n",
       "            <td>Pendrive 128Mb</td>\n",
       "            <td>100</td>\n",
       "        </tr>\n",
       "        <tr>\n",
       "            <td>Maria João</td>\n",
       "            <td>None</td>\n",
       "            <td>None</td>\n",
       "        </tr>\n",
       "        <tr>\n",
       "            <td>Maria Silva</td>\n",
       "            <td>Celular</td>\n",
       "            <td>1500</td>\n",
       "        </tr>\n",
       "        <tr>\n",
       "            <td>Maria Silva</td>\n",
       "            <td>Notebook</td>\n",
       "            <td>3500</td>\n",
       "        </tr>\n",
       "    </tbody>\n",
       "</table>"
      ],
      "text/plain": [
       "[('Alex Souza', 'Cabo USB', 300),\n",
       " ('Antonio', 'Relógio Barbie', 2000),\n",
       " ('João Santos', 'Cadeira Gamer', 1500),\n",
       " ('João Santos', 'Mochila', 400),\n",
       " ('João Santos', 'Mouse LG', 100),\n",
       " ('João Santos', 'Mouse Pad', 50),\n",
       " ('Lídia', 'Cartucho Mega Drive', 1000),\n",
       " ('Lídia', 'Pendrive 128Mb', 100),\n",
       " ('Maria João', None, None),\n",
       " ('Maria Silva', 'Celular', 1500),\n",
       " ('Maria Silva', 'Notebook', 3500)]"
      ]
     },
     "execution_count": 47,
     "metadata": {},
     "output_type": "execute_result"
    }
   ],
   "source": [
    "%%sql\n",
    "\n",
    "-- Usando RIGHT JOIN\n",
    "SELECT cl.nome\n",
    "     , co.produto\n",
    "     , sum(co.valor) as valor_total\n",
    "  FROM compras  co   \n",
    "  RIGHT JOIN clientes cl on cl.id_cliente = co.id_cliente\n",
    " GROUP BY cl.nome, co.produto;"
   ]
  },
  {
   "cell_type": "markdown",
   "metadata": {},
   "source": [
    "## Apagando o cenário"
   ]
  },
  {
   "cell_type": "code",
   "execution_count": 48,
   "metadata": {},
   "outputs": [
    {
     "name": "stdout",
     "output_type": "stream",
     "text": [
      " * sqlite:///mydb1.db\n",
      "Done.\n"
     ]
    },
    {
     "data": {
      "text/plain": [
       "[]"
      ]
     },
     "execution_count": 48,
     "metadata": {},
     "output_type": "execute_result"
    }
   ],
   "source": [
    "%%sql\n",
    "\n",
    "--drop table compras;"
   ]
  },
  {
   "cell_type": "code",
   "execution_count": 49,
   "metadata": {},
   "outputs": [
    {
     "name": "stdout",
     "output_type": "stream",
     "text": [
      " * sqlite:///mydb1.db\n",
      "Done.\n"
     ]
    },
    {
     "data": {
      "text/plain": [
       "[]"
      ]
     },
     "execution_count": 49,
     "metadata": {},
     "output_type": "execute_result"
    }
   ],
   "source": [
    "%%sql\n",
    "\n",
    "--drop table clientes;"
   ]
  },
  {
   "cell_type": "markdown",
   "metadata": {},
   "source": [
    "## Integrando com Pandas"
   ]
  },
  {
   "cell_type": "code",
   "execution_count": 65,
   "metadata": {},
   "outputs": [],
   "source": [
    "# Para carregar os dados da tabela em um pandas data frame\n",
    "import pandas as pd\n",
    "import sqlite3"
   ]
  },
  {
   "cell_type": "code",
   "execution_count": 66,
   "metadata": {},
   "outputs": [],
   "source": [
    "# Estabelece a conexão com o banco de dados\n",
    "# conn_sqlite = sqlite3.connect(\"../database/mydb.db\")\n",
    "conn_sqlite = sqlite3.connect(\"mydb1.db\")"
   ]
  },
  {
   "cell_type": "code",
   "execution_count": 67,
   "metadata": {},
   "outputs": [],
   "source": [
    "# Faz a leitura da tabela:\n",
    "query = '''\n",
    "SELECT * FROM clientes\n",
    "'''\n",
    "df_cliente = pd.read_sql(sql=query, con=conn_sqlite)"
   ]
  },
  {
   "cell_type": "code",
   "execution_count": 69,
   "metadata": {},
   "outputs": [
    {
     "data": {
      "text/html": [
       "<div>\n",
       "<style scoped>\n",
       "    .dataframe tbody tr th:only-of-type {\n",
       "        vertical-align: middle;\n",
       "    }\n",
       "\n",
       "    .dataframe tbody tr th {\n",
       "        vertical-align: top;\n",
       "    }\n",
       "\n",
       "    .dataframe thead th {\n",
       "        text-align: right;\n",
       "    }\n",
       "</style>\n",
       "<table border=\"1\" class=\"dataframe\">\n",
       "  <thead>\n",
       "    <tr style=\"text-align: right;\">\n",
       "      <th></th>\n",
       "      <th>id_cliente</th>\n",
       "      <th>nome</th>\n",
       "      <th>email</th>\n",
       "      <th>telefone</th>\n",
       "      <th>data_nascimento</th>\n",
       "    </tr>\n",
       "  </thead>\n",
       "  <tbody>\n",
       "    <tr>\n",
       "      <th>0</th>\n",
       "      <td>1</td>\n",
       "      <td>Maria Silva</td>\n",
       "      <td>maria@email.com</td>\n",
       "      <td>(11) 99999-1111</td>\n",
       "      <td>1990-05-15</td>\n",
       "    </tr>\n",
       "    <tr>\n",
       "      <th>1</th>\n",
       "      <td>2</td>\n",
       "      <td>João Santos</td>\n",
       "      <td>joao@email.com</td>\n",
       "      <td>(21) 98888-2222</td>\n",
       "      <td>1985-09-20</td>\n",
       "    </tr>\n",
       "    <tr>\n",
       "      <th>2</th>\n",
       "      <td>3</td>\n",
       "      <td>Lídia</td>\n",
       "      <td>lid@gmail.com</td>\n",
       "      <td>(85) 98888-8888</td>\n",
       "      <td>15/08/1995</td>\n",
       "    </tr>\n",
       "    <tr>\n",
       "      <th>3</th>\n",
       "      <td>4</td>\n",
       "      <td>Antonio</td>\n",
       "      <td>antonio@gmail.com</td>\n",
       "      <td>(85) 97777-7777</td>\n",
       "      <td>03/11/1998</td>\n",
       "    </tr>\n",
       "    <tr>\n",
       "      <th>4</th>\n",
       "      <td>5</td>\n",
       "      <td>Alex Souza</td>\n",
       "      <td>aasouzaconsult@gmail.com</td>\n",
       "      <td>(85) 96666-6666</td>\n",
       "      <td>13/09/1985</td>\n",
       "    </tr>\n",
       "    <tr>\n",
       "      <th>5</th>\n",
       "      <td>6</td>\n",
       "      <td>Maria João</td>\n",
       "      <td>mariaj@email.com</td>\n",
       "      <td>(11) 99999-1111</td>\n",
       "      <td>1990-05-15</td>\n",
       "    </tr>\n",
       "  </tbody>\n",
       "</table>\n",
       "</div>"
      ],
      "text/plain": [
       "   id_cliente         nome                     email         telefone  \\\n",
       "0           1  Maria Silva           maria@email.com  (11) 99999-1111   \n",
       "1           2  João Santos            joao@email.com  (21) 98888-2222   \n",
       "2           3        Lídia             lid@gmail.com  (85) 98888-8888   \n",
       "3           4      Antonio         antonio@gmail.com  (85) 97777-7777   \n",
       "4           5   Alex Souza  aasouzaconsult@gmail.com  (85) 96666-6666   \n",
       "5           6   Maria João          mariaj@email.com  (11) 99999-1111   \n",
       "\n",
       "  data_nascimento  \n",
       "0      1990-05-15  \n",
       "1      1985-09-20  \n",
       "2      15/08/1995  \n",
       "3      03/11/1998  \n",
       "4      13/09/1985  \n",
       "5      1990-05-15  "
      ]
     },
     "execution_count": 69,
     "metadata": {},
     "output_type": "execute_result"
    }
   ],
   "source": [
    "# Visualiza a tabela:\n",
    "\n",
    "df_cliente.head(6)"
   ]
  },
  {
   "cell_type": "code",
   "execution_count": 70,
   "metadata": {},
   "outputs": [
    {
     "data": {
      "text/html": [
       "<div>\n",
       "<style scoped>\n",
       "    .dataframe tbody tr th:only-of-type {\n",
       "        vertical-align: middle;\n",
       "    }\n",
       "\n",
       "    .dataframe tbody tr th {\n",
       "        vertical-align: top;\n",
       "    }\n",
       "\n",
       "    .dataframe thead th {\n",
       "        text-align: right;\n",
       "    }\n",
       "</style>\n",
       "<table border=\"1\" class=\"dataframe\">\n",
       "  <thead>\n",
       "    <tr style=\"text-align: right;\">\n",
       "      <th></th>\n",
       "      <th>id_cliente</th>\n",
       "      <th>nome</th>\n",
       "      <th>email</th>\n",
       "      <th>telefone</th>\n",
       "      <th>data_nascimento</th>\n",
       "    </tr>\n",
       "  </thead>\n",
       "  <tbody>\n",
       "    <tr>\n",
       "      <th>0</th>\n",
       "      <td>7</td>\n",
       "      <td>Bill Gates</td>\n",
       "      <td>bg@gmail.com</td>\n",
       "      <td>(85) 99887-8787</td>\n",
       "      <td>1950-01-05</td>\n",
       "    </tr>\n",
       "    <tr>\n",
       "      <th>1</th>\n",
       "      <td>8</td>\n",
       "      <td>S. Jobs</td>\n",
       "      <td>sj@gmail.com</td>\n",
       "      <td>(85) 99778-8899</td>\n",
       "      <td>1951-02-07</td>\n",
       "    </tr>\n",
       "  </tbody>\n",
       "</table>\n",
       "</div>"
      ],
      "text/plain": [
       "   id_cliente        nome         email         telefone data_nascimento\n",
       "0           7  Bill Gates  bg@gmail.com  (85) 99887-8787      1950-01-05\n",
       "1           8     S. Jobs  sj@gmail.com  (85) 99778-8899      1951-02-07"
      ]
     },
     "execution_count": 70,
     "metadata": {},
     "output_type": "execute_result"
    }
   ],
   "source": [
    "# Para inserir dados numa tabela existente:\n",
    "\n",
    "# Cria um data frame para o exemplo\n",
    "\n",
    "df_novos_clientes = pd.DataFrame({\n",
    "    'id_cliente': [7,8],\n",
    "    'nome': ['Bill Gates', 'S. Jobs'],\n",
    "    'email': ['bg@gmail.com', 'sj@gmail.com'],\n",
    "    'telefone': ['(85) 99887-8787', '(85) 99778-8899'],\n",
    "    'data_nascimento': ['1950-01-05', '1951-02-07']\n",
    "})\n",
    "\n",
    "df_novos_clientes.head()"
   ]
  },
  {
   "cell_type": "code",
   "execution_count": 71,
   "metadata": {},
   "outputs": [
    {
     "data": {
      "text/plain": [
       "2"
      ]
     },
     "execution_count": 71,
     "metadata": {},
     "output_type": "execute_result"
    }
   ],
   "source": [
    "df_novos_clientes.to_sql('clientes', con=conn_sqlite, if_exists='append', index=False)"
   ]
  },
  {
   "cell_type": "code",
   "execution_count": 74,
   "metadata": {
    "vscode": {
     "languageId": "sql"
    }
   },
   "outputs": [
    {
     "name": "stdout",
     "output_type": "stream",
     "text": [
      " * sqlite:///mydb1.db\n",
      "Done.\n"
     ]
    },
    {
     "data": {
      "text/html": [
       "<table>\n",
       "    <thead>\n",
       "        <tr>\n",
       "            <th>id_cliente</th>\n",
       "            <th>nome</th>\n",
       "            <th>email</th>\n",
       "            <th>telefone</th>\n",
       "            <th>data_nascimento</th>\n",
       "        </tr>\n",
       "    </thead>\n",
       "    <tbody>\n",
       "        <tr>\n",
       "            <td>1</td>\n",
       "            <td>Maria Silva</td>\n",
       "            <td>maria@email.com</td>\n",
       "            <td>(11) 99999-1111</td>\n",
       "            <td>1990-05-15</td>\n",
       "        </tr>\n",
       "        <tr>\n",
       "            <td>2</td>\n",
       "            <td>João Santos</td>\n",
       "            <td>joao@email.com</td>\n",
       "            <td>(21) 98888-2222</td>\n",
       "            <td>1985-09-20</td>\n",
       "        </tr>\n",
       "        <tr>\n",
       "            <td>3</td>\n",
       "            <td>Lídia</td>\n",
       "            <td>lid@gmail.com</td>\n",
       "            <td>(85) 98888-8888</td>\n",
       "            <td>15/08/1995</td>\n",
       "        </tr>\n",
       "        <tr>\n",
       "            <td>4</td>\n",
       "            <td>Antonio</td>\n",
       "            <td>antonio@gmail.com</td>\n",
       "            <td>(85) 97777-7777</td>\n",
       "            <td>03/11/1998</td>\n",
       "        </tr>\n",
       "        <tr>\n",
       "            <td>5</td>\n",
       "            <td>Alex Souza</td>\n",
       "            <td>aasouzaconsult@gmail.com</td>\n",
       "            <td>(85) 96666-6666</td>\n",
       "            <td>13/09/1985</td>\n",
       "        </tr>\n",
       "        <tr>\n",
       "            <td>6</td>\n",
       "            <td>Maria João</td>\n",
       "            <td>mariaj@email.com</td>\n",
       "            <td>(11) 99999-1111</td>\n",
       "            <td>1990-05-15</td>\n",
       "        </tr>\n",
       "        <tr>\n",
       "            <td>7</td>\n",
       "            <td>Bill Gates</td>\n",
       "            <td>bg@gmail.com</td>\n",
       "            <td>(85) 99887-8787</td>\n",
       "            <td>1950-01-05</td>\n",
       "        </tr>\n",
       "        <tr>\n",
       "            <td>8</td>\n",
       "            <td>S. Jobs</td>\n",
       "            <td>sj@gmail.com</td>\n",
       "            <td>(85) 99778-8899</td>\n",
       "            <td>1951-02-07</td>\n",
       "        </tr>\n",
       "    </tbody>\n",
       "</table>"
      ],
      "text/plain": [
       "[(1, 'Maria Silva', 'maria@email.com', '(11) 99999-1111', '1990-05-15'),\n",
       " (2, 'João Santos', 'joao@email.com', '(21) 98888-2222', '1985-09-20'),\n",
       " (3, 'Lídia', 'lid@gmail.com', '(85) 98888-8888', '15/08/1995'),\n",
       " (4, 'Antonio', 'antonio@gmail.com', '(85) 97777-7777', '03/11/1998'),\n",
       " (5, 'Alex Souza', 'aasouzaconsult@gmail.com', '(85) 96666-6666', '13/09/1985'),\n",
       " (6, 'Maria João', 'mariaj@email.com', '(11) 99999-1111', '1990-05-15'),\n",
       " (7, 'Bill Gates', 'bg@gmail.com', '(85) 99887-8787', '1950-01-05'),\n",
       " (8, 'S. Jobs', 'sj@gmail.com', '(85) 99778-8899', '1951-02-07')]"
      ]
     },
     "execution_count": 74,
     "metadata": {},
     "output_type": "execute_result"
    }
   ],
   "source": [
    "%%sql\n",
    "\n",
    "SELECT * FROM clientes;"
   ]
  },
  {
   "cell_type": "code",
   "execution_count": 76,
   "metadata": {},
   "outputs": [
    {
     "data": {
      "text/plain": [
       "2"
      ]
     },
     "execution_count": 76,
     "metadata": {},
     "output_type": "execute_result"
    }
   ],
   "source": [
    "# Se o objetivo fosse criar uma nova tabela, por exemplo NOVOS_CLIENTES...\n",
    "\n",
    "df_novos_clientes.to_sql('new_clientes', con=conn_sqlite, index=False)"
   ]
  },
  {
   "cell_type": "code",
   "execution_count": 77,
   "metadata": {
    "vscode": {
     "languageId": "sql"
    }
   },
   "outputs": [
    {
     "name": "stdout",
     "output_type": "stream",
     "text": [
      " * sqlite:///mydb1.db\n",
      "Done.\n"
     ]
    },
    {
     "data": {
      "text/html": [
       "<table>\n",
       "    <thead>\n",
       "        <tr>\n",
       "            <th>id_cliente</th>\n",
       "            <th>nome</th>\n",
       "            <th>email</th>\n",
       "            <th>telefone</th>\n",
       "            <th>data_nascimento</th>\n",
       "        </tr>\n",
       "    </thead>\n",
       "    <tbody>\n",
       "        <tr>\n",
       "            <td>7</td>\n",
       "            <td>Bill Gates</td>\n",
       "            <td>bg@gmail.com</td>\n",
       "            <td>(85) 99887-8787</td>\n",
       "            <td>1950-01-05</td>\n",
       "        </tr>\n",
       "        <tr>\n",
       "            <td>8</td>\n",
       "            <td>S. Jobs</td>\n",
       "            <td>sj@gmail.com</td>\n",
       "            <td>(85) 99778-8899</td>\n",
       "            <td>1951-02-07</td>\n",
       "        </tr>\n",
       "    </tbody>\n",
       "</table>"
      ],
      "text/plain": [
       "[(7, 'Bill Gates', 'bg@gmail.com', '(85) 99887-8787', '1950-01-05'),\n",
       " (8, 'S. Jobs', 'sj@gmail.com', '(85) 99778-8899', '1951-02-07')]"
      ]
     },
     "execution_count": 77,
     "metadata": {},
     "output_type": "execute_result"
    }
   ],
   "source": [
    "%%sql\n",
    "\n",
    "SELECT * FROM new_clientes;"
   ]
  },
  {
   "cell_type": "code",
   "execution_count": 78,
   "metadata": {},
   "outputs": [
    {
     "data": {
      "text/plain": [
       "2"
      ]
     },
     "execution_count": 78,
     "metadata": {},
     "output_type": "execute_result"
    }
   ],
   "source": [
    "# É possível substituir uma tabela:\n",
    "\n",
    "df_novos_clientes.to_sql('clientes', con=conn_sqlite, if_exists='replace', index=False)"
   ]
  },
  {
   "cell_type": "code",
   "execution_count": 79,
   "metadata": {
    "vscode": {
     "languageId": "sql"
    }
   },
   "outputs": [
    {
     "name": "stdout",
     "output_type": "stream",
     "text": [
      " * sqlite:///mydb1.db\n",
      "Done.\n"
     ]
    },
    {
     "data": {
      "text/html": [
       "<table>\n",
       "    <thead>\n",
       "        <tr>\n",
       "            <th>id_cliente</th>\n",
       "            <th>nome</th>\n",
       "            <th>email</th>\n",
       "            <th>telefone</th>\n",
       "            <th>data_nascimento</th>\n",
       "        </tr>\n",
       "    </thead>\n",
       "    <tbody>\n",
       "        <tr>\n",
       "            <td>7</td>\n",
       "            <td>Bill Gates</td>\n",
       "            <td>bg@gmail.com</td>\n",
       "            <td>(85) 99887-8787</td>\n",
       "            <td>1950-01-05</td>\n",
       "        </tr>\n",
       "        <tr>\n",
       "            <td>8</td>\n",
       "            <td>S. Jobs</td>\n",
       "            <td>sj@gmail.com</td>\n",
       "            <td>(85) 99778-8899</td>\n",
       "            <td>1951-02-07</td>\n",
       "        </tr>\n",
       "    </tbody>\n",
       "</table>"
      ],
      "text/plain": [
       "[(7, 'Bill Gates', 'bg@gmail.com', '(85) 99887-8787', '1950-01-05'),\n",
       " (8, 'S. Jobs', 'sj@gmail.com', '(85) 99778-8899', '1951-02-07')]"
      ]
     },
     "execution_count": 79,
     "metadata": {},
     "output_type": "execute_result"
    }
   ],
   "source": [
    "%%sql\n",
    "\n",
    "SELECT * FROM clientes;"
   ]
  },
  {
   "cell_type": "markdown",
   "metadata": {},
   "source": [
    "## Referências"
   ]
  },
  {
   "cell_type": "markdown",
   "metadata": {},
   "source": [
    "- https://www.linkedin.com/pulse/como-praticar-sql-jupyter-notebook-ant%2525C3%2525B3nio-c-da-silva-j%2525C3%2525BAnior%3FtrackingId/\n",
    "- https://ipython.readthedocs.io/en/stable/interactive/magics.html"
   ]
  }
 ],
 "metadata": {
  "kernelspec": {
   "display_name": "Python 3 (ipykernel)",
   "language": "python",
   "name": "python3"
  },
  "language_info": {
   "codemirror_mode": {
    "name": "ipython",
    "version": 3
   },
   "file_extension": ".py",
   "mimetype": "text/x-python",
   "name": "python",
   "nbconvert_exporter": "python",
   "pygments_lexer": "ipython3",
   "version": "3.10.9"
  }
 },
 "nbformat": 4,
 "nbformat_minor": 2
}
